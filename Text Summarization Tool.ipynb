{
 "cells": [
  {
   "cell_type": "markdown",
   "id": "60e702e5-0718-4d9f-8fe1-f84d3b3fa789",
   "metadata": {},
   "source": [
    "TEXT SUMMARIZATION TOOL:"
   ]
  },
  {
   "cell_type": "raw",
   "id": "d5f80e0d-45c8-44b0-b35b-a52d3f96c21d",
   "metadata": {},
   "source": [
    "The goal is to summarize a long article into a few key sentences using NLP (Natural Language Processing).\n",
    "Im using the Sumy library, which provides extractive summarization. It picks the most important sentences from the original text."
   ]
  },
  {
   "cell_type": "raw",
   "id": "4d3a6002-bdfd-44d3-be80-084b26c2e28c",
   "metadata": {},
   "source": [
    "Install Required Libraries:"
   ]
  },
  {
   "cell_type": "markdown",
   "id": "fe5e7ec7-9325-4264-afb0-1192db73104f",
   "metadata": {},
   "source": [
    "!pip install sumy nltk"
   ]
  },
  {
   "cell_type": "raw",
   "id": "778f4806-2aba-486b-8678-db93da5bfaa7",
   "metadata": {},
   "source": [
    "Import Libraries and Download Tokenizer:"
   ]
  },
  {
   "cell_type": "code",
   "execution_count": 3,
   "id": "1c3d9db9-93b4-4e1c-9e1f-9aedfe591f65",
   "metadata": {},
   "outputs": [
    {
     "name": "stderr",
     "output_type": "stream",
     "text": [
      "[nltk_data] Downloading package punkt to\n",
      "[nltk_data]     C:\\Users\\prasa\\AppData\\Roaming\\nltk_data...\n",
      "[nltk_data]   Package punkt is already up-to-date!\n"
     ]
    },
    {
     "data": {
      "text/plain": [
       "True"
      ]
     },
     "execution_count": 3,
     "metadata": {},
     "output_type": "execute_result"
    }
   ],
   "source": [
    "from sumy.parsers.plaintext import PlaintextParser\n",
    "from sumy.nlp.tokenizers import Tokenizer\n",
    "from sumy.summarizers.lsa import LsaSummarizer\n",
    "import nltk\n",
    "\n",
    "nltk.download('punkt')\n"
   ]
  },
  {
   "cell_type": "raw",
   "id": "d7c0c6b9-e4e9-4c26-a65e-72be4effdb06",
   "metadata": {},
   "source": [
    "Define the Summarization Function:"
   ]
  },
  {
   "cell_type": "code",
   "execution_count": 4,
   "id": "3d3423c2-a711-4205-8841-a203952c6b38",
   "metadata": {},
   "outputs": [],
   "source": [
    "def summarize_text(text, num_sentences=5):\n",
    "    parser = PlaintextParser.from_string(text, Tokenizer(\"english\"))\n",
    "    summarizer = LsaSummarizer()\n",
    "    summary = summarizer(parser.document, num_sentences)\n",
    "    return \" \".join(str(sentence) for sentence in summary)\n"
   ]
  },
  {
   "cell_type": "raw",
   "id": "0ced42ab-7e18-46b5-a6be-1b9dfcb4339a",
   "metadata": {},
   "source": [
    "Input Your Long Text"
   ]
  },
  {
   "cell_type": "code",
   "execution_count": 5,
   "id": "6c347595-f8b3-4142-863d-e6117ab6506b",
   "metadata": {},
   "outputs": [],
   "source": [
    "long_text = \"\"\"The 20th century witnessed an unprecedented acceleration of progress in nearly every field of science, and medicine was no exception. The advancements made during this era not only dramatically increased life expectancy but also fundamentally transformed the way we understand, diagnose, and treat diseases. This period saw the rise of revolutionary technologies, the discovery of life-saving drugs, and the development of innovative surgical techniques that continue to shape medical practice today.The Dawn of New Diagnostic CapabilitiesAt the beginning of the 20th century, medical diagnosis relied heavily on physical examination and rudimentary laboratory tests. However, the discovery of X-rays by Wilhelm Conrad Röntgen in 1895, just before the turn of the century, heralded a new era of medical imaging. X-rays allowed physicians to visualize the body's internal structures without invasive surgery, revolutionizing the detection of fractures, foreign bodies, and various diseases. This breakthrough paved the way for the development of even more sophisticated imaging techniques in the following decades.Ultrasound technology, which utilizes high-frequency sound waves to create images of internal organs, gained prominence in the mid-20th century. Its non-invasive nature and ability to provide real-time images made it an invaluable tool for obstetrics, cardiology, and abdominal imaging. The development of computed tomography (CT) scans in the 1970s further enhanced diagnostic capabilities. By combining X-ray technology with computer processing, CT scans produce detailed cross-sectional images of the body, enabling the detection of subtle abnormalities that were previously undetectable.The advent of magnetic resonance imaging (MRI) in the 1980s represented another quantum leap in medical imaging. MRI utilizes powerful magnetic fields and radio waves to generate high-resolution images of soft tissues, the brain, and the spinal cord. Its superior ability to differentiate between different types of tissue made it indispensable for diagnosing neurological disorders, cancer, and musculoskeletal conditions. These advancements in medical imaging empowered physicians with increasingly precise tools, leading to earlier and more accurate diagnoses, and ultimately, better patient outcomes.The Age of PharmacologyThe 20th century also witnessed a revolution in pharmacology, with the discovery and development of a vast array of life-saving drugs. Perhaps the most significant breakthrough was the discovery of penicillin by Alexander Fleming in 1928. This serendipitous finding marked the beginning of the antibiotic era, transforming the treatment of bacterial infections. Diseases that were once major causes of mortality, such as pneumonia, tuberculosis, and syphilis, can now be effectively treated with antibiotics. The development of other antibiotics followed, each with its spectrum of activity against different types of bacteria.However, the 20th century was not just about fighting infections. The discovery of insulin in the early 1920s transformed the lives of people with diabetes. Before insulin therapy, type 1 diabetes was a fatal disease, often leading to death within months or years of diagnosis. Insulin injections allowed patients to manage their blood sugar levels and live relatively normal lives.The development of oral contraceptives in the 1950s had a profound impact on women's health and family planning. These medications provided women with greater control over their reproductive choices, leading to significant social and demographic changes. The 20th century also saw the development of effective treatments for a wide range of other conditions, including hypertension, heart disease, and mental illness. The introduction of antihypertensive drugs, for example, has dramatically reduced the incidence of strokes and heart attacks.Surgical Innovations: From Open Surgery to Minimally Invasive TechniquesSurgery also underwent a dramatic transformation in the 20th century. Early surgical procedures were often highly invasive, involving large incisions and prolonged recovery times. However, the development of anesthesia in the late 19th century made surgery less painful and more feasible. The 20th century saw significant advancements in surgical techniques, leading to improved outcomes and reduced patient morbidity.One of the most remarkable achievements was the development of organ transplantation. The first successful kidney transplant in 1954 paved the way for the transplantation of other organs, including the heart, liver, and lungs. These procedures offered a lifeline to patients with end-stage organ failure, but they also presented significant challenges, such as organ rejection. The development of immunosuppressive drugs helped to address this challenge, allowing transplant recipients to live longer and healthier lives.Cardiovascular surgery also made significant strides in the 20th century. The first successful open-heart surgery was performed in the 1950s, allowing surgeons to repair heart defects and perform coronary artery bypass surgery. These procedures revolutionized the treatment of heart disease, which remains a leading cause of death worldwide.Perhaps one of the most transformative surgical innovations of the late 20th century was the development of minimally invasive surgery. Techniques such as laparoscopy and endoscopy allowed surgeons to perform complex procedures through small incisions, using specialized instruments and cameras. These minimally invasive approaches resulted in less pain, scarring, and blood loss, as well as shorter hospital stays and faster recovery times.The Genetic RevolutionThe 20th century also ushered in the era of molecular medicine, driven by groundbreaking discoveries in genetics. The elucidation of the structure of DNA by James Watson and Francis Crick in 1953 provided the key to understanding the genetic basis of life. This discovery paved the way for the development of genetic testing, which allows for the identification of individuals at risk for inherited diseases.Gene therapy, the experimental technique of introducing genetic material into cells to treat or prevent disease, emerged as a promising field in the late 20th century. While still facing many challenges, gene therapy holds the potential to revolutionize the treatment of genetic disorders such as cystic fibrosis, hemophilia, and muscular dystrophy.The 20th century witnessed a remarkable transformation in the medical field. From the discovery of antibiotics to the development of organ transplantation and minimally invasive surgery, the advancements made during this era have profoundly impacted human health.\n",
    "\"\"\"\n"
   ]
  },
  {
   "cell_type": "code",
   "execution_count": 6,
   "id": "c156f7af-c00b-41fc-98fb-553d49e25010",
   "metadata": {},
   "outputs": [
    {
     "name": "stdout",
     "output_type": "stream",
     "text": [
      "🔍 Summary:\n",
      "\n",
      "Its superior ability to differentiate between different types of tissue made it indispensable for diagnosing neurological disorders, cancer, and musculoskeletal conditions. Diseases that were once major causes of mortality, such as pneumonia, tuberculosis, and syphilis, can now be effectively treated with antibiotics. Before insulin therapy, type 1 diabetes was a fatal disease, often leading to death within months or years of diagnosis. These medications provided women with greater control over their reproductive choices, leading to significant social and demographic changes. Early surgical procedures were often highly invasive, involving large incisions and prolonged recovery times.\n"
     ]
    }
   ],
   "source": [
    "summary = summarize_text(long_text, num_sentences=5)\n",
    "print(\"🔍 Summary:\\n\")\n",
    "print(summary)\n"
   ]
  },
  {
   "cell_type": "code",
   "execution_count": null,
   "id": "d2ab037f-73f3-437c-9bdf-0b198cd344f1",
   "metadata": {},
   "outputs": [],
   "source": []
  },
  {
   "cell_type": "code",
   "execution_count": null,
   "id": "e4411d77-58cb-44d3-900e-ec0fc93b2804",
   "metadata": {},
   "outputs": [],
   "source": []
  }
 ],
 "metadata": {
  "kernelspec": {
   "display_name": "Python 3 (ipykernel)",
   "language": "python",
   "name": "python3"
  },
  "language_info": {
   "codemirror_mode": {
    "name": "ipython",
    "version": 3
   },
   "file_extension": ".py",
   "mimetype": "text/x-python",
   "name": "python",
   "nbconvert_exporter": "python",
   "pygments_lexer": "ipython3",
   "version": "3.12.3"
  }
 },
 "nbformat": 4,
 "nbformat_minor": 5
}
